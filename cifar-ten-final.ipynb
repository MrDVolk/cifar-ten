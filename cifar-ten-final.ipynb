{
 "cells": [
  {
   "cell_type": "code",
   "execution_count": 1,
   "metadata": {},
   "outputs": [],
   "source": [
    "import tensorflow as tf\n",
    "import tensorflow_addons as tfa\n",
    "import numpy as np\n",
    "import matplotlib.pyplot as plt\n",
    "plt.style.use('ggplot')\n",
    "\n",
    "from utility import *"
   ]
  },
  {
   "cell_type": "markdown",
   "metadata": {},
   "source": [
    "### Data loading"
   ]
  },
  {
   "cell_type": "code",
   "execution_count": 2,
   "metadata": {},
   "outputs": [
    {
     "name": "stdout",
     "output_type": "stream",
     "text": [
      "x_train shape: (50000, 32, 32, 3)\n",
      "y_train shape: (50000, 10)\n"
     ]
    }
   ],
   "source": [
    "from tensorflow.keras.utils import to_categorical\n",
    "\n",
    "(x_train, y_train), (x_test, y_test) = tf.keras.datasets.cifar10.load_data()\n",
    "y_train = to_categorical(np.ravel(y_train))\n",
    "y_test = to_categorical(np.ravel(y_test))\n",
    "\n",
    "print(f'x_train shape: {x_train.shape}')\n",
    "print(f'y_train shape: {y_train.shape}')\n",
    "\n",
    "label_names = {\n",
    "    0: 'plane',\n",
    "    1: 'car',\n",
    "    2: 'bird',\n",
    "    3: 'cat',\n",
    "    4: 'deer',\n",
    "    5: 'dog',\n",
    "    6: 'frog',\n",
    "    7: 'horse',\n",
    "    8: 'ship',\n",
    "    9: 'truck'\n",
    "}"
   ]
  },
  {
   "cell_type": "code",
   "execution_count": 21,
   "metadata": {},
   "outputs": [],
   "source": [
    "def preprocess_images(images_set):\n",
    "    return images_set * 1. / 255   "
   ]
  },
  {
   "cell_type": "markdown",
   "metadata": {},
   "source": [
    "# Neural Network"
   ]
  },
  {
   "cell_type": "code",
   "execution_count": 37,
   "metadata": {},
   "outputs": [],
   "source": [
    "from tensorflow.keras.preprocessing.image import ImageDataGenerator\n",
    "\n",
    "train_datagen = ImageDataGenerator(\n",
    "    #rescale=1./255,\n",
    "    rotation_range=25,\n",
    "    horizontal_flip=True,\n",
    "    vertical_flip=False,\n",
    "    featurewise_center=True,\n",
    "    featurewise_std_normalization=True,\n",
    "    #zca_whitening=True,\n",
    "    fill_mode='reflect',\n",
    "    validation_split=0.02\n",
    ")\n",
    "\n",
    "train_datagen.fit(x_train)"
   ]
  },
  {
   "cell_type": "code",
   "execution_count": 43,
   "metadata": {},
   "outputs": [],
   "source": [
    "from tensorflow.keras.optimizers import RMSprop\n",
    "from tensorflow_addons.layers.maxout import Maxout\n",
    "\n",
    "def maxout_nn_model(show_summary=False):\n",
    "    inputs = tf.keras.layers.Input((32, 32, 3))\n",
    "    \n",
    "    hidden = tf.keras.layers.Conv2D(32, (3, 3), activation='relu', padding='same')(inputs)\n",
    "    hidden = tf.keras.layers.MaxPool2D((2,2))(hidden)\n",
    "    hidden = tf.keras.layers.BatchNormalization()(hidden)\n",
    "    hidden = Maxout(num_units=16)(hidden)\n",
    "        \n",
    "    hidden = tf.keras.layers.Conv2D(48, (3, 3), activation='relu', padding='same')(hidden)\n",
    "    hidden = tf.keras.layers.MaxPool2D((2,2))(hidden)\n",
    "    hidden = tf.keras.layers.BatchNormalization()(hidden)\n",
    "    #hidden = tf.keras.layers.Dropout(0.1)(hidden)\n",
    "    hidden = Maxout(num_units=24)(hidden)\n",
    "    \n",
    "    hidden = tf.keras.layers.Conv2D(96, (3, 3), activation='relu', padding='same')(hidden)\n",
    "    hidden = tf.keras.layers.MaxPool2D((2,2))(hidden)\n",
    "    hidden = tf.keras.layers.BatchNormalization()(hidden)\n",
    "    #hidden = tf.keras.layers.Dropout(0.1)(hidden)\n",
    "    hidden = Maxout(num_units=48)(hidden)\n",
    "    \n",
    "    hidden = tf.keras.layers.Conv2D(192, (4, 4), activation='relu', padding='valid')(hidden)\n",
    "    hidden = tf.keras.layers.BatchNormalization()(hidden)\n",
    "    #hidden = tf.keras.layers.Dropout(0.1)(hidden)\n",
    "    hidden = Maxout(num_units=96)(hidden)\n",
    "    \n",
    "    hidden = tf.keras.layers.Flatten()(hidden)\n",
    "    \n",
    "    hidden = tf.keras.layers.Dense(256, activation='relu')(hidden)\n",
    "    hidden = Maxout(num_units=128)(hidden)\n",
    "    \n",
    "    outputs = tf.keras.layers.Dense(10, activation='softmax')(hidden)\n",
    "    \n",
    "    model = tf.keras.Model(inputs, outputs)\n",
    "    metrics = [\n",
    "        tfa.metrics.F1Score(num_classes=10, average=\"weighted\"),\n",
    "        'accuracy'\n",
    "    ]\n",
    "    model.compile(\n",
    "        optimizer=RMSprop(lr=0.0002),\n",
    "        loss='categorical_crossentropy',\n",
    "        metrics=metrics\n",
    "    )\n",
    "    \n",
    "    if show_summary:\n",
    "        print(model.summary())\n",
    "    \n",
    "    return model"
   ]
  },
  {
   "cell_type": "code",
   "execution_count": 44,
   "metadata": {},
   "outputs": [
    {
     "name": "stdout",
     "output_type": "stream",
     "text": [
      "Model: \"model_7\"\n",
      "_________________________________________________________________\n",
      "Layer (type)                 Output Shape              Param #   \n",
      "=================================================================\n",
      "input_13 (InputLayer)        [(None, 32, 32, 3)]       0         \n",
      "_________________________________________________________________\n",
      "conv2d_36 (Conv2D)           (None, 32, 32, 32)        896       \n",
      "_________________________________________________________________\n",
      "max_pooling2d_28 (MaxPooling (None, 16, 16, 32)        0         \n",
      "_________________________________________________________________\n",
      "batch_normalization_36 (Batc (None, 16, 16, 32)        128       \n",
      "_________________________________________________________________\n",
      "maxout_28 (Maxout)           (None, 16, 16, 16)        0         \n",
      "_________________________________________________________________\n",
      "conv2d_37 (Conv2D)           (None, 16, 16, 48)        6960      \n",
      "_________________________________________________________________\n",
      "max_pooling2d_29 (MaxPooling (None, 8, 8, 48)          0         \n",
      "_________________________________________________________________\n",
      "batch_normalization_37 (Batc (None, 8, 8, 48)          192       \n",
      "_________________________________________________________________\n",
      "maxout_29 (Maxout)           (None, 8, 8, 24)          0         \n",
      "_________________________________________________________________\n",
      "conv2d_38 (Conv2D)           (None, 8, 8, 96)          20832     \n",
      "_________________________________________________________________\n",
      "max_pooling2d_30 (MaxPooling (None, 4, 4, 96)          0         \n",
      "_________________________________________________________________\n",
      "batch_normalization_38 (Batc (None, 4, 4, 96)          384       \n",
      "_________________________________________________________________\n",
      "maxout_30 (Maxout)           (None, 4, 4, 48)          0         \n",
      "_________________________________________________________________\n",
      "conv2d_39 (Conv2D)           (None, 1, 1, 192)         147648    \n",
      "_________________________________________________________________\n",
      "batch_normalization_39 (Batc (None, 1, 1, 192)         768       \n",
      "_________________________________________________________________\n",
      "maxout_31 (Maxout)           (None, 1, 1, 96)          0         \n",
      "_________________________________________________________________\n",
      "flatten_8 (Flatten)          (None, 96)                0         \n",
      "_________________________________________________________________\n",
      "dense_7 (Dense)              (None, 256)               24832     \n",
      "_________________________________________________________________\n",
      "maxout_32 (Maxout)           (None, 128)               0         \n",
      "_________________________________________________________________\n",
      "dense_8 (Dense)              (None, 10)                1290      \n",
      "=================================================================\n",
      "Total params: 203,930\n",
      "Trainable params: 203,194\n",
      "Non-trainable params: 736\n",
      "_________________________________________________________________\n",
      "None\n"
     ]
    }
   ],
   "source": [
    "model = maxout_nn_model(show_summary=True)"
   ]
  },
  {
   "cell_type": "code",
   "execution_count": null,
   "metadata": {},
   "outputs": [
    {
     "name": "stdout",
     "output_type": "stream",
     "text": [
      "WARNING:tensorflow:sample_weight modes were coerced from\n",
      "  ...\n",
      "    to  \n",
      "  ['...']\n",
      "WARNING:tensorflow:sample_weight modes were coerced from\n",
      "  ...\n",
      "    to  \n",
      "  ['...']\n",
      "Train for 765 steps, validate for 16 steps\n",
      "Epoch 1/40\n",
      "765/765 [==============================] - 28s 36ms/step - loss: 1.5584 - f1_score: 0.4387 - accuracy: 0.4417 - val_loss: 1.2965 - val_f1_score: 0.5139 - val_accuracy: 0.5150\n",
      "Epoch 2/40\n",
      "765/765 [==============================] - 25s 33ms/step - loss: 1.2456 - f1_score: 0.5545 - accuracy: 0.5570 - val_loss: 1.1649 - val_f1_score: 0.5780 - val_accuracy: 0.5810\n",
      "Epoch 3/40\n",
      "765/765 [==============================] - 25s 33ms/step - loss: 1.1184 - f1_score: 0.5991 - accuracy: 0.6012 - val_loss: 1.1051 - val_f1_score: 0.6210 - val_accuracy: 0.6230\n",
      "Epoch 4/40\n",
      "765/765 [==============================] - 25s 32ms/step - loss: 1.0293 - f1_score: 0.6351 - accuracy: 0.6368 - val_loss: 1.0295 - val_f1_score: 0.6471 - val_accuracy: 0.6460\n",
      "Epoch 5/40\n",
      "765/765 [==============================] - 23s 31ms/step - loss: 0.9582 - f1_score: 0.6589 - accuracy: 0.6604 - val_loss: 0.9804 - val_f1_score: 0.6394 - val_accuracy: 0.6420\n",
      "Epoch 6/40\n",
      "765/765 [==============================] - 22s 29ms/step - loss: 0.9115 - f1_score: 0.6784 - accuracy: 0.6795 - val_loss: 0.9259 - val_f1_score: 0.6744 - val_accuracy: 0.6780\n",
      "Epoch 7/40\n",
      "765/765 [==============================] - 22s 29ms/step - loss: 0.8663 - f1_score: 0.6933 - accuracy: 0.6944 - val_loss: 0.9346 - val_f1_score: 0.6695 - val_accuracy: 0.6700\n",
      "Epoch 8/40\n",
      "765/765 [==============================] - 23s 30ms/step - loss: 0.8356 - f1_score: 0.7052 - accuracy: 0.7062 - val_loss: 0.8791 - val_f1_score: 0.7104 - val_accuracy: 0.7090\n",
      "Epoch 9/40\n",
      "765/765 [==============================] - 23s 30ms/step - loss: 0.8048 - f1_score: 0.7185 - accuracy: 0.7194 - val_loss: 0.8924 - val_f1_score: 0.6788 - val_accuracy: 0.6820\n",
      "Epoch 10/40\n",
      "765/765 [==============================] - 23s 30ms/step - loss: 0.7768 - f1_score: 0.7233 - accuracy: 0.7241 - val_loss: 0.8521 - val_f1_score: 0.6932 - val_accuracy: 0.6910\n",
      "Epoch 11/40\n",
      "765/765 [==============================] - 24s 31ms/step - loss: 0.7567 - f1_score: 0.7331 - accuracy: 0.7339 - val_loss: 0.8227 - val_f1_score: 0.7128 - val_accuracy: 0.7110\n",
      "Epoch 12/40\n",
      "765/765 [==============================] - 24s 32ms/step - loss: 0.7342 - f1_score: 0.7406 - accuracy: 0.7414 - val_loss: 0.8288 - val_f1_score: 0.7093 - val_accuracy: 0.7090\n",
      "Epoch 13/40\n",
      "765/765 [==============================] - 23s 30ms/step - loss: 0.7144 - f1_score: 0.7491 - accuracy: 0.7498 - val_loss: 0.7741 - val_f1_score: 0.7328 - val_accuracy: 0.7330\n",
      "Epoch 14/40\n",
      "765/765 [==============================] - 23s 31ms/step - loss: 0.6951 - f1_score: 0.7534 - accuracy: 0.7541 - val_loss: 0.7825 - val_f1_score: 0.7194 - val_accuracy: 0.7230\n",
      "Epoch 15/40\n",
      "765/765 [==============================] - 23s 30ms/step - loss: 0.6773 - f1_score: 0.7613 - accuracy: 0.7619 - val_loss: 0.7909 - val_f1_score: 0.7204 - val_accuracy: 0.7190\n",
      "Epoch 16/40\n",
      "765/765 [==============================] - 24s 31ms/step - loss: 0.6624 - f1_score: 0.7674 - accuracy: 0.7679 - val_loss: 0.7666 - val_f1_score: 0.7391 - val_accuracy: 0.7400\n",
      "Epoch 17/40\n",
      "765/765 [==============================] - 23s 30ms/step - loss: 0.6440 - f1_score: 0.7735 - accuracy: 0.7741 - val_loss: 0.7591 - val_f1_score: 0.7425 - val_accuracy: 0.7400\n",
      "Epoch 18/40\n",
      "765/765 [==============================] - 24s 31ms/step - loss: 0.6319 - f1_score: 0.7798 - accuracy: 0.7803 - val_loss: 0.7317 - val_f1_score: 0.7492 - val_accuracy: 0.7490\n",
      "Epoch 19/40\n",
      "765/765 [==============================] - 23s 30ms/step - loss: 0.6128 - f1_score: 0.7831 - accuracy: 0.7836 - val_loss: 0.7840 - val_f1_score: 0.7271 - val_accuracy: 0.7240\n",
      "Epoch 20/40\n",
      "765/765 [==============================] - 24s 31ms/step - loss: 0.6062 - f1_score: 0.7857 - accuracy: 0.7862 - val_loss: 0.7268 - val_f1_score: 0.7539 - val_accuracy: 0.7530\n",
      "Epoch 21/40\n",
      "765/765 [==============================] - 24s 32ms/step - loss: 0.5939 - f1_score: 0.7916 - accuracy: 0.7920 - val_loss: 0.7422 - val_f1_score: 0.7401 - val_accuracy: 0.7380\n",
      "Epoch 22/40\n",
      "765/765 [==============================] - 24s 31ms/step - loss: 0.5799 - f1_score: 0.7971 - accuracy: 0.7974 - val_loss: 0.7824 - val_f1_score: 0.7259 - val_accuracy: 0.7270\n",
      "Epoch 23/40\n",
      "765/765 [==============================] - 24s 31ms/step - loss: 0.5705 - f1_score: 0.7987 - accuracy: 0.7991 - val_loss: 0.7207 - val_f1_score: 0.7520 - val_accuracy: 0.7520- loss: 0.5679 - f1_score: 0.7989 -  - ETA: 2s - los\n",
      "Epoch 24/40\n",
      "765/765 [==============================] - 24s 31ms/step - loss: 0.5611 - f1_score: 0.8032 - accuracy: 0.8035 - val_loss: 0.7759 - val_f1_score: 0.7247 - val_accuracy: 0.7240\n",
      "Epoch 25/40\n",
      "765/765 [==============================] - 24s 31ms/step - loss: 0.5466 - f1_score: 0.8081 - accuracy: 0.8084 - val_loss: 0.7027 - val_f1_score: 0.7596 - val_accuracy: 0.7580\n",
      "Epoch 26/40\n",
      "765/765 [==============================] - 23s 30ms/step - loss: 0.5406 - f1_score: 0.8096 - accuracy: 0.8100 - val_loss: 0.7379 - val_f1_score: 0.7445 - val_accuracy: 0.7430\n",
      "Epoch 27/40\n",
      "765/765 [==============================] - 23s 30ms/step - loss: 0.5353 - f1_score: 0.8119 - accuracy: 0.8122 - val_loss: 0.7190 - val_f1_score: 0.7645 - val_accuracy: 0.7630\n",
      "Epoch 28/40\n",
      "723/765 [===========================>..] - ETA: 1s - loss: 0.5266 - f1_score: 0.8162 - accuracy: 0.8165"
     ]
    }
   ],
   "source": [
    "from tensorflow.keras.callbacks import ModelCheckpoint, ReduceLROnPlateau\n",
    "\n",
    "save_best = ModelCheckpoint('models/best_weights_final.hdf5', save_best_only=True, monitor='val_f1_score', mode='max')\n",
    "reduce_lr = ReduceLROnPlateau(monitor='val_f1_score', mode='max', factor=0.2, patience=5, verbose=1, cooldown=3)\n",
    "\n",
    "history = model.fit(\n",
    "    train_datagen.flow(x_train, y_train, batch_size=64, subset='training'),\n",
    "    steps_per_epoch=765,\n",
    "    validation_data=train_datagen.flow(x_train, y_train, batch_size=64, subset='validation'),\n",
    "    validation_steps=16,\n",
    "    callbacks=[save_best, reduce_lr],\n",
    "    epochs=40\n",
    ")"
   ]
  },
  {
   "cell_type": "code",
   "execution_count": 20,
   "metadata": {},
   "outputs": [
    {
     "data": {
      "image/png": "[encoded data removed]",
      "text/plain": [
       "<Figure size 1152x576 with 2 Axes>"
      ]
     },
     "metadata": {},
     "output_type": "display_data"
    }
   ],
   "source": [
    "plot_history(history.history)"
   ]
  },
  {
   "cell_type": "code",
   "execution_count": 24,
   "metadata": {},
   "outputs": [
    {
     "name": "stdout",
     "output_type": "stream",
     "text": [
      "10000/10000 [==============================] - 2s 195us/sample - loss: 0.7641 - f1_score: 0.7435 - accuracy: 0.7482\n"
     ]
    },
    {
     "data": {
      "text/plain": [
       "[0.7641213726997376, 0.74349034, 0.7482]"
      ]
     },
     "execution_count": 24,
     "metadata": {},
     "output_type": "execute_result"
    }
   ],
   "source": [
    "model.load_weights('models/best_weights_final.hdf5')\n",
    "x_test_pp = preprocess_images(x_test)\n",
    "model.evaluate(x_test_pp, y_test)"
   ]
  },
  {
   "cell_type": "code",
   "execution_count": null,
   "metadata": {},
   "outputs": [],
   "source": []
  }
 ],
 "metadata": {
  "kernelspec": {
   "display_name": "Python 3",
   "language": "python",
   "name": "python3"
  },
  "language_info": {
   "codemirror_mode": {
    "name": "ipython",
    "version": 3
   },
   "file_extension": ".py",
   "mimetype": "text/x-python",
   "name": "python",
   "nbconvert_exporter": "python",
   "pygments_lexer": "ipython3",
   "version": "3.7.9"
  }
 },
 "nbformat": 4,
 "nbformat_minor": 4
}
