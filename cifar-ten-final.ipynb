{
 "cells": [
  {
   "cell_type": "code",
   "execution_count": 3,
   "metadata": {},
   "outputs": [],
   "source": [
    "import tensorflow as tf\n",
    "import tensorflow_addons as tfa\n",
    "import numpy as np\n",
    "import matplotlib.pyplot as plt\n",
    "plt.style.use('ggplot')\n",
    "\n",
    "from utility import *"
   ]
  },
  {
   "cell_type": "markdown",
   "metadata": {},
   "source": [
    "### Data loading"
   ]
  },
  {
   "cell_type": "code",
   "execution_count": 4,
   "metadata": {},
   "outputs": [
    {
     "name": "stdout",
     "output_type": "stream",
     "text": [
      "x_train shape: (50000, 32, 32, 3)\n",
      "y_train shape: (50000, 10)\n"
     ]
    }
   ],
   "source": [
    "from tensorflow.keras.utils import to_categorical\n",
    "\n",
    "(x_train, y_train), (x_test, y_test) = tf.keras.datasets.cifar10.load_data()\n",
    "y_train = to_categorical(np.ravel(y_train))\n",
    "y_test = to_categorical(np.ravel(y_test))\n",
    "\n",
    "print(f'x_train shape: {x_train.shape}')\n",
    "print(f'y_train shape: {y_train.shape}')\n",
    "\n",
    "label_names = {\n",
    "    0: 'plane',\n",
    "    1: 'car',\n",
    "    2: 'bird',\n",
    "    3: 'cat',\n",
    "    4: 'deer',\n",
    "    5: 'dog',\n",
    "    6: 'frog',\n",
    "    7: 'horse',\n",
    "    8: 'ship',\n",
    "    9: 'truck'\n",
    "}"
   ]
  },
  {
   "cell_type": "code",
   "execution_count": 5,
   "metadata": {},
   "outputs": [],
   "source": [
    "def preprocess_images(images_set):\n",
    "    return images_set * 1. / 255   "
   ]
  },
  {
   "cell_type": "markdown",
   "metadata": {},
   "source": [
    "# Neural Network"
   ]
  },
  {
   "cell_type": "code",
   "execution_count": 6,
   "metadata": {},
   "outputs": [],
   "source": [
    "from tensorflow.keras.preprocessing.image import ImageDataGenerator\n",
    "\n",
    "train_datagen = ImageDataGenerator(\n",
    "    #rescale=1./255,\n",
    "    rotation_range=25,\n",
    "    horizontal_flip=True,\n",
    "    vertical_flip=False,\n",
    "    featurewise_center=True,\n",
    "    featurewise_std_normalization=True,\n",
    "    #zca_whitening=True,\n",
    "    fill_mode='reflect',\n",
    "    validation_split=0.02\n",
    ")\n",
    "\n",
    "train_datagen.fit(x_train)"
   ]
  },
  {
   "cell_type": "code",
   "execution_count": 17,
   "metadata": {},
   "outputs": [],
   "source": [
    "from tensorflow.keras.optimizers import RMSprop\n",
    "from tensorflow_addons.layers.maxout import Maxout\n",
    "\n",
    "def maxout_nn_model(show_summary=False):\n",
    "    inputs = tf.keras.layers.Input((32, 32, 3))\n",
    "    \n",
    "    hidden = tf.keras.layers.Conv2D(64, (3, 3), activation='relu', padding='same')(inputs)\n",
    "    hidden = tf.keras.layers.MaxPool2D((2,2))(hidden)\n",
    "    hidden = tf.keras.layers.BatchNormalization()(hidden)\n",
    "    hidden = Maxout(num_units=32)(hidden)\n",
    "        \n",
    "    hidden = tf.keras.layers.Conv2D(96, (3, 3), activation='relu', padding='same')(hidden)\n",
    "    hidden = tf.keras.layers.MaxPool2D((2,2))(hidden)\n",
    "    hidden = tf.keras.layers.BatchNormalization()(hidden)\n",
    "    #hidden = tf.keras.layers.Dropout(0.1)(hidden)\n",
    "    hidden = Maxout(num_units=48)(hidden)\n",
    "    \n",
    "    hidden = tf.keras.layers.Conv2D(192, (3, 3), activation='relu', padding='same')(hidden)\n",
    "    hidden = tf.keras.layers.MaxPool2D((2,2))(hidden)\n",
    "    hidden = tf.keras.layers.BatchNormalization()(hidden)\n",
    "    #hidden = tf.keras.layers.Dropout(0.1)(hidden)\n",
    "    hidden = Maxout(num_units=96)(hidden)\n",
    "    \n",
    "    hidden = tf.keras.layers.Conv2D(384, (4, 4), activation='relu', padding='valid')(hidden)\n",
    "    hidden = tf.keras.layers.BatchNormalization()(hidden)\n",
    "    #hidden = tf.keras.layers.Dropout(0.1)(hidden)\n",
    "    hidden = Maxout(num_units=192)(hidden)\n",
    "    \n",
    "    hidden = tf.keras.layers.Flatten()(hidden)\n",
    "    \n",
    "    hidden = tf.keras.layers.Dense(256, activation='relu')(hidden)\n",
    "    hidden = Maxout(num_units=128)(hidden)\n",
    "    \n",
    "    outputs = tf.keras.layers.Dense(10, activation='softmax')(hidden)\n",
    "    \n",
    "    model = tf.keras.Model(inputs, outputs)\n",
    "    metrics = [\n",
    "        tfa.metrics.F1Score(num_classes=10, average=\"weighted\"),\n",
    "        'accuracy'\n",
    "    ]\n",
    "    model.compile(\n",
    "        optimizer=RMSprop(learning_rate=0.0002),\n",
    "        loss='categorical_crossentropy',\n",
    "        metrics=metrics\n",
    "    )\n",
    "    \n",
    "    if show_summary:\n",
    "        print(model.summary())\n",
    "    \n",
    "    return model"
   ]
  },
  {
   "cell_type": "code",
   "execution_count": 18,
   "metadata": {
    "tags": []
   },
   "outputs": [
    {
     "name": "stdout",
     "output_type": "stream",
     "text": [
      "Model: \"model_1\"\n",
      "_________________________________________________________________\n",
      "Layer (type)                 Output Shape              Param #   \n",
      "=================================================================\n",
      "input_2 (InputLayer)         [(None, 32, 32, 3)]       0         \n",
      "_________________________________________________________________\n",
      "conv2d_4 (Conv2D)            (None, 32, 32, 64)        1792      \n",
      "_________________________________________________________________\n",
      "max_pooling2d_3 (MaxPooling2 (None, 16, 16, 64)        0         \n",
      "_________________________________________________________________\n",
      "batch_normalization_4 (Batch (None, 16, 16, 64)        256       \n",
      "_________________________________________________________________\n",
      "maxout_5 (Maxout)            (None, 16, 16, 32)        0         \n",
      "_________________________________________________________________\n",
      "conv2d_5 (Conv2D)            (None, 16, 16, 96)        27744     \n",
      "_________________________________________________________________\n",
      "max_pooling2d_4 (MaxPooling2 (None, 8, 8, 96)          0         \n",
      "_________________________________________________________________\n",
      "batch_normalization_5 (Batch (None, 8, 8, 96)          384       \n",
      "_________________________________________________________________\n",
      "maxout_6 (Maxout)            (None, 8, 8, 48)          0         \n",
      "_________________________________________________________________\n",
      "conv2d_6 (Conv2D)            (None, 8, 8, 192)         83136     \n",
      "_________________________________________________________________\n",
      "max_pooling2d_5 (MaxPooling2 (None, 4, 4, 192)         0         \n",
      "_________________________________________________________________\n",
      "batch_normalization_6 (Batch (None, 4, 4, 192)         768       \n",
      "_________________________________________________________________\n",
      "maxout_7 (Maxout)            (None, 4, 4, 96)          0         \n",
      "_________________________________________________________________\n",
      "conv2d_7 (Conv2D)            (None, 1, 1, 384)         590208    \n",
      "_________________________________________________________________\n",
      "batch_normalization_7 (Batch (None, 1, 1, 384)         1536      \n",
      "_________________________________________________________________\n",
      "maxout_8 (Maxout)            (None, 1, 1, 192)         0         \n",
      "_________________________________________________________________\n",
      "flatten_1 (Flatten)          (None, 192)               0         \n",
      "_________________________________________________________________\n",
      "dense_2 (Dense)              (None, 256)               49408     \n",
      "_________________________________________________________________\n",
      "maxout_9 (Maxout)            (None, 128)               0         \n",
      "_________________________________________________________________\n",
      "dense_3 (Dense)              (None, 10)                1290      \n",
      "=================================================================\n",
      "Total params: 756,522\n",
      "Trainable params: 755,050\n",
      "Non-trainable params: 1,472\n",
      "_________________________________________________________________\n",
      "None\n"
     ]
    }
   ],
   "source": [
    "model = maxout_nn_model(show_summary=True)"
   ]
  },
  {
   "cell_type": "code",
   "execution_count": 19,
   "metadata": {
    "tags": []
   },
   "outputs": [
    {
     "name": "stdout",
     "output_type": "stream",
     "text": [
      "Epoch 1/40\n",
      "765/765 [==============================] - 63s 80ms/step - loss: 1.4159 - f1_score: 0.4934 - accuracy: 0.4961 - val_loss: 1.1951 - val_f1_score: 0.5794 - val_accuracy: 0.5790\n",
      "Epoch 2/40\n",
      "765/765 [==============================] - 60s 79ms/step - loss: 1.0900 - f1_score: 0.6112 - accuracy: 0.6129 - val_loss: 1.0450 - val_f1_score: 0.6244 - val_accuracy: 0.6270\n",
      "Epoch 3/40\n",
      "765/765 [==============================] - 62s 81ms/step - loss: 0.9501 - f1_score: 0.6622 - accuracy: 0.6633 - val_loss: 0.9449 - val_f1_score: 0.6481 - val_accuracy: 0.6510\n",
      "Epoch 4/40\n",
      "765/765 [==============================] - 62s 81ms/step - loss: 0.8528 - f1_score: 0.6994 - accuracy: 0.7003 - val_loss: 0.8535 - val_f1_score: 0.7128 - val_accuracy: 0.7150\n",
      "Epoch 5/40\n",
      "765/765 [==============================] - 65s 85ms/step - loss: 0.7851 - f1_score: 0.7231 - accuracy: 0.7237 - val_loss: 0.8093 - val_f1_score: 0.7108 - val_accuracy: 0.7110\n",
      "Epoch 6/40\n",
      "765/765 [==============================] - 65s 85ms/step - loss: 0.7305 - f1_score: 0.7413 - accuracy: 0.7420 - val_loss: 0.8602 - val_f1_score: 0.7000 - val_accuracy: 0.7020\n",
      "Epoch 7/40\n",
      "765/765 [==============================] - 63s 82ms/step - loss: 0.6801 - f1_score: 0.7613 - accuracy: 0.7617 - val_loss: 0.7887 - val_f1_score: 0.7321 - val_accuracy: 0.7290\n",
      "Epoch 8/40\n",
      "765/765 [==============================] - 62s 81ms/step - loss: 0.6412 - f1_score: 0.7771 - accuracy: 0.7775 - val_loss: 0.7176 - val_f1_score: 0.7455 - val_accuracy: 0.7460\n",
      "Epoch 9/40\n",
      "765/765 [==============================] - 64s 84ms/step - loss: 0.6029 - f1_score: 0.7911 - accuracy: 0.7914 - val_loss: 0.6995 - val_f1_score: 0.7757 - val_accuracy: 0.7730\n",
      "Epoch 10/40\n",
      "765/765 [==============================] - 65s 85ms/step - loss: 0.5751 - f1_score: 0.7992 - accuracy: 0.7995 - val_loss: 0.7310 - val_f1_score: 0.7442 - val_accuracy: 0.7450\n",
      "Epoch 11/40\n",
      "765/765 [==============================] - 62s 81ms/step - loss: 0.5487 - f1_score: 0.8092 - accuracy: 0.8094 - val_loss: 0.7104 - val_f1_score: 0.7743 - val_accuracy: 0.7730\n",
      "Epoch 12/40\n",
      "765/765 [==============================] - 62s 81ms/step - loss: 0.5215 - f1_score: 0.8178 - accuracy: 0.8179 - val_loss: 0.7331 - val_f1_score: 0.7729 - val_accuracy: 0.7690\n",
      "Epoch 13/40\n",
      "765/765 [==============================] - 62s 81ms/step - loss: 0.5001 - f1_score: 0.8249 - accuracy: 0.8251 - val_loss: 0.7532 - val_f1_score: 0.7738 - val_accuracy: 0.7710\n",
      "Epoch 14/40\n",
      "765/765 [==============================] - 62s 81ms/step - loss: 0.4783 - f1_score: 0.8336 - accuracy: 0.8339 - val_loss: 0.6652 - val_f1_score: 0.7599 - val_accuracy: 0.7610\n",
      "\n",
      "Epoch 00014: ReduceLROnPlateau reducing learning rate to 3.9999998989515007e-05.\n",
      "Epoch 15/40\n",
      "765/765 [==============================] - 62s 82ms/step - loss: 0.4017 - f1_score: 0.8605 - accuracy: 0.8606 - val_loss: 0.6265 - val_f1_score: 0.7889 - val_accuracy: 0.7880\n",
      "Epoch 16/40\n",
      "765/765 [==============================] - 65s 85ms/step - loss: 0.3820 - f1_score: 0.8680 - accuracy: 0.8681 - val_loss: 0.6038 - val_f1_score: 0.8049 - val_accuracy: 0.8050\n",
      "Epoch 17/40\n",
      "765/765 [==============================] - 64s 84ms/step - loss: 0.3640 - f1_score: 0.8741 - accuracy: 0.8742 - val_loss: 0.5625 - val_f1_score: 0.8035 - val_accuracy: 0.8020\n",
      "Epoch 18/40\n",
      "765/765 [==============================] - 64s 83ms/step - loss: 0.3574 - f1_score: 0.8776 - accuracy: 0.8778 - val_loss: 0.5895 - val_f1_score: 0.7850 - val_accuracy: 0.7850\n",
      "Epoch 19/40\n",
      "765/765 [==============================] - 63s 83ms/step - loss: 0.3452 - f1_score: 0.8826 - accuracy: 0.8827 - val_loss: 0.5855 - val_f1_score: 0.7929 - val_accuracy: 0.7930\n",
      "Epoch 20/40\n",
      "765/765 [==============================] - 63s 82ms/step - loss: 0.3432 - f1_score: 0.8818 - accuracy: 0.8820 - val_loss: 0.5766 - val_f1_score: 0.8102 - val_accuracy: 0.8090\n",
      "Epoch 21/40\n",
      "765/765 [==============================] - 63s 83ms/step - loss: 0.3293 - f1_score: 0.8879 - accuracy: 0.8881 - val_loss: 0.6031 - val_f1_score: 0.7968 - val_accuracy: 0.7960\n",
      "Epoch 22/40\n",
      "765/765 [==============================] - 64s 83ms/step - loss: 0.3257 - f1_score: 0.8894 - accuracy: 0.8895 - val_loss: 0.6236 - val_f1_score: 0.7961 - val_accuracy: 0.7950\n",
      "Epoch 23/40\n",
      "765/765 [==============================] - 63s 82ms/step - loss: 0.3225 - f1_score: 0.8888 - accuracy: 0.8889 - val_loss: 0.6390 - val_f1_score: 0.8048 - val_accuracy: 0.8050\n",
      "Epoch 24/40\n",
      "765/765 [==============================] - 64s 84ms/step - loss: 0.3081 - f1_score: 0.8950 - accuracy: 0.8951 - val_loss: 0.6414 - val_f1_score: 0.7885 - val_accuracy: 0.7880\n",
      "Epoch 25/40\n",
      "765/765 [==============================] - 65s 85ms/step - loss: 0.3100 - f1_score: 0.8940 - accuracy: 0.8940 - val_loss: 0.5905 - val_f1_score: 0.7989 - val_accuracy: 0.7990\n",
      "\n",
      "Epoch 00025: ReduceLROnPlateau reducing learning rate to 7.999999797903002e-06.\n",
      "Epoch 26/40\n",
      "765/765 [==============================] - 66s 86ms/step - loss: 0.2908 - f1_score: 0.9008 - accuracy: 0.9010 - val_loss: 0.6364 - val_f1_score: 0.7973 - val_accuracy: 0.7970\n",
      "Epoch 27/40\n",
      "765/765 [==============================] - 63s 83ms/step - loss: 0.2863 - f1_score: 0.9020 - accuracy: 0.9021 - val_loss: 0.5936 - val_f1_score: 0.8037 - val_accuracy: 0.8020\n",
      "Epoch 28/40\n",
      "765/765 [==============================] - 65s 84ms/step - loss: 0.2827 - f1_score: 0.9031 - accuracy: 0.9031 - val_loss: 0.6072 - val_f1_score: 0.8110 - val_accuracy: 0.8110\n",
      "Epoch 29/40\n",
      "765/765 [==============================] - 64s 84ms/step - loss: 0.2838 - f1_score: 0.9021 - accuracy: 0.9022 - val_loss: 0.5901 - val_f1_score: 0.8171 - val_accuracy: 0.8170\n",
      "Epoch 30/40\n",
      "765/765 [==============================] - 65s 85ms/step - loss: 0.2853 - f1_score: 0.9021 - accuracy: 0.9021 - val_loss: 0.6127 - val_f1_score: 0.8050 - val_accuracy: 0.8040\n",
      "Epoch 31/40\n",
      "765/765 [==============================] - 65s 85ms/step - loss: 0.2791 - f1_score: 0.9064 - accuracy: 0.9064 - val_loss: 0.5944 - val_f1_score: 0.8061 - val_accuracy: 0.8050\n",
      "Epoch 32/40\n",
      "765/765 [==============================] - 65s 85ms/step - loss: 0.2754 - f1_score: 0.9074 - accuracy: 0.9074 - val_loss: 0.6357 - val_f1_score: 0.8011 - val_accuracy: 0.8000\n",
      "Epoch 33/40\n",
      "765/765 [==============================] - 65s 85ms/step - loss: 0.2742 - f1_score: 0.9063 - accuracy: 0.9064 - val_loss: 0.6191 - val_f1_score: 0.8057 - val_accuracy: 0.8050\n",
      "Epoch 34/40\n",
      "765/765 [==============================] - 65s 85ms/step - loss: 0.2735 - f1_score: 0.9064 - accuracy: 0.9064 - val_loss: 0.6115 - val_f1_score: 0.8093 - val_accuracy: 0.8080\n",
      "\n",
      "Epoch 00034: ReduceLROnPlateau reducing learning rate to 1.5999999959603884e-06.\n",
      "Epoch 35/40\n",
      "765/765 [==============================] - 64s 84ms/step - loss: 0.2701 - f1_score: 0.9074 - accuracy: 0.9075 - val_loss: 0.5994 - val_f1_score: 0.8124 - val_accuracy: 0.8120\n",
      "Epoch 36/40\n",
      "765/765 [==============================] - 65s 85ms/step - loss: 0.2757 - f1_score: 0.9062 - accuracy: 0.9062 - val_loss: 0.5960 - val_f1_score: 0.8047 - val_accuracy: 0.8040\n",
      "Epoch 37/40\n",
      "765/765 [==============================] - 64s 84ms/step - loss: 0.2685 - f1_score: 0.9079 - accuracy: 0.9079 - val_loss: 0.6281 - val_f1_score: 0.7988 - val_accuracy: 0.7980\n",
      "Epoch 38/40\n",
      "765/765 [==============================] - 66s 86ms/step - loss: 0.2674 - f1_score: 0.9106 - accuracy: 0.9107 - val_loss: 0.6077 - val_f1_score: 0.8083 - val_accuracy: 0.8080\n",
      "Epoch 39/40\n",
      "765/765 [==============================] - 66s 86ms/step - loss: 0.2673 - f1_score: 0.9092 - accuracy: 0.9093 - val_loss: 0.5983 - val_f1_score: 0.7961 - val_accuracy: 0.7950\n",
      "Epoch 40/40\n",
      "765/765 [==============================] - 66s 86ms/step - loss: 0.2692 - f1_score: 0.9071 - accuracy: 0.9072 - val_loss: 0.6015 - val_f1_score: 0.8037 - val_accuracy: 0.8030\n"
     ]
    }
   ],
   "source": [
    "from tensorflow.keras.callbacks import ModelCheckpoint, ReduceLROnPlateau\n",
    "\n",
    "save_best = ModelCheckpoint('models/best_weights_final.hdf5', save_best_only=True, monitor='val_f1_score', mode='max')\n",
    "reduce_lr = ReduceLROnPlateau(monitor='val_f1_score', mode='max', factor=0.2, patience=5, verbose=1, cooldown=3)\n",
    "\n",
    "history = model.fit(\n",
    "    train_datagen.flow(x_train, y_train, batch_size=64, subset='training'),\n",
    "    steps_per_epoch=765,\n",
    "    validation_data=train_datagen.flow(x_train, y_train, batch_size=64, subset='validation'),\n",
    "    validation_steps=16,\n",
    "    callbacks=[save_best, reduce_lr],\n",
    "    epochs=40\n",
    ")"
   ]
  },
  {
   "cell_type": "code",
   "execution_count": 24,
   "metadata": {},
   "outputs": [
    {
     "data": {
      "image/png": "[encoded data removed]",
      "text/plain": [
       "<Figure size 1152x576 with 2 Axes>"
      ]
     },
     "metadata": {
      "needs_background": "light"
     },
     "output_type": "display_data"
    }
   ],
   "source": [
    "%matplotlib inline\n",
    "plot_history(history.history)"
   ]
  },
  {
   "cell_type": "code",
   "execution_count": 26,
   "metadata": {},
   "outputs": [
    {
     "name": "stdout",
     "output_type": "stream",
     "text": [
      "313/313 [==============================] - 5s 14ms/step - loss: 0.6220 - f1_score: 0.8049 - accuracy: 0.8069\n"
     ]
    },
    {
     "data": {
      "text/plain": [
       "[0.6219919323921204, 0.804894208908081, 0.8069000244140625]"
      ]
     },
     "execution_count": 26,
     "metadata": {},
     "output_type": "execute_result"
    }
   ],
   "source": [
    "model.load_weights('models/best_weights_final.hdf5')\n",
    "\n",
    "test_datagen = ImageDataGenerator(\n",
    "    featurewise_center=True,\n",
    "    featurewise_std_normalization=True\n",
    ")\n",
    "test_datagen.fit(x_train)\n",
    "\n",
    "model.evaluate(test_datagen.flow(x_test, y_test))"
   ]
  },
  {
   "cell_type": "code",
   "execution_count": null,
   "metadata": {},
   "outputs": [],
   "source": []
  }
 ],
 "metadata": {
  "kernelspec": {
   "display_name": "Python 3",
   "language": "python",
   "name": "python3"
  },
  "language_info": {
   "codemirror_mode": {
    "name": "ipython",
    "version": 3
   },
   "file_extension": ".py",
   "mimetype": "text/x-python",
   "name": "python",
   "nbconvert_exporter": "python",
   "pygments_lexer": "ipython3",
   "version": "3.9.6"
  }
 },
 "nbformat": 4,
 "nbformat_minor": 4
}
