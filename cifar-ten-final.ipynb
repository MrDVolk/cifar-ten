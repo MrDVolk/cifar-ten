{
 "cells": [
  {
   "cell_type": "code",
   "execution_count": 3,
   "metadata": {},
   "outputs": [],
   "source": [
    "import tensorflow as tf\n",
    "import tensorflow_addons as tfa\n",
    "import numpy as np\n",
    "import matplotlib.pyplot as plt\n",
    "plt.style.use('ggplot')\n",
    "\n",
    "from utility import *"
   ]
  },
  {
   "cell_type": "markdown",
   "metadata": {},
   "source": [
    "### Data loading"
   ]
  },
  {
   "cell_type": "code",
   "execution_count": 4,
   "metadata": {},
   "outputs": [
    {
     "name": "stdout",
     "output_type": "stream",
     "text": [
      "x_train shape: (50000, 32, 32, 3)\n",
      "y_train shape: (50000, 10)\n"
     ]
    }
   ],
   "source": [
    "from tensorflow.keras.utils import to_categorical\n",
    "\n",
    "(x_train, y_train), (x_test, y_test) = tf.keras.datasets.cifar10.load_data()\n",
    "y_train = to_categorical(np.ravel(y_train))\n",
    "y_test = to_categorical(np.ravel(y_test))\n",
    "\n",
    "print(f'x_train shape: {x_train.shape}')\n",
    "print(f'y_train shape: {y_train.shape}')\n",
    "\n",
    "label_names = {\n",
    "    0: 'plane',\n",
    "    1: 'car',\n",
    "    2: 'bird',\n",
    "    3: 'cat',\n",
    "    4: 'deer',\n",
    "    5: 'dog',\n",
    "    6: 'frog',\n",
    "    7: 'horse',\n",
    "    8: 'ship',\n",
    "    9: 'truck'\n",
    "}"
   ]
  },
  {
   "cell_type": "code",
   "execution_count": 5,
   "metadata": {},
   "outputs": [],
   "source": [
    "def preprocess_images(images_set):\n",
    "    return images_set * 1. / 255   "
   ]
  },
  {
   "cell_type": "markdown",
   "metadata": {},
   "source": [
    "# Neural Network"
   ]
  },
  {
   "cell_type": "code",
   "execution_count": 6,
   "metadata": {},
   "outputs": [],
   "source": [
    "from tensorflow.keras.preprocessing.image import ImageDataGenerator\n",
    "\n",
    "train_datagen = ImageDataGenerator(\n",
    "    #rescale=1./255,\n",
    "    rotation_range=25,\n",
    "    horizontal_flip=True,\n",
    "    vertical_flip=False,\n",
    "    featurewise_center=True,\n",
    "    featurewise_std_normalization=True,\n",
    "    #zca_whitening=True,\n",
    "    fill_mode='reflect',\n",
    "    validation_split=0.02\n",
    ")\n",
    "\n",
    "train_datagen.fit(x_train)"
   ]
  },
  {
   "cell_type": "code",
   "execution_count": 7,
   "metadata": {},
   "outputs": [],
   "source": [
    "from tensorflow.keras.optimizers import RMSprop\n",
    "from tensorflow_addons.layers.maxout import Maxout\n",
    "\n",
    "def maxout_nn_model(show_summary=False):\n",
    "    inputs = tf.keras.layers.Input((32, 32, 3))\n",
    "    \n",
    "    hidden = tf.keras.layers.Conv2D(32, (3, 3), activation='relu', padding='same')(inputs)\n",
    "    hidden = tf.keras.layers.MaxPool2D((2,2))(hidden)\n",
    "    hidden = tf.keras.layers.BatchNormalization()(hidden)\n",
    "    hidden = Maxout(num_units=16)(hidden)\n",
    "        \n",
    "    hidden = tf.keras.layers.Conv2D(48, (3, 3), activation='relu', padding='same')(hidden)\n",
    "    hidden = tf.keras.layers.MaxPool2D((2,2))(hidden)\n",
    "    hidden = tf.keras.layers.BatchNormalization()(hidden)\n",
    "    #hidden = tf.keras.layers.Dropout(0.1)(hidden)\n",
    "    hidden = Maxout(num_units=24)(hidden)\n",
    "    \n",
    "    hidden = tf.keras.layers.Conv2D(96, (3, 3), activation='relu', padding='same')(hidden)\n",
    "    hidden = tf.keras.layers.MaxPool2D((2,2))(hidden)\n",
    "    hidden = tf.keras.layers.BatchNormalization()(hidden)\n",
    "    #hidden = tf.keras.layers.Dropout(0.1)(hidden)\n",
    "    hidden = Maxout(num_units=48)(hidden)\n",
    "    \n",
    "    hidden = tf.keras.layers.Conv2D(192, (4, 4), activation='relu', padding='valid')(hidden)\n",
    "    hidden = tf.keras.layers.BatchNormalization()(hidden)\n",
    "    #hidden = tf.keras.layers.Dropout(0.1)(hidden)\n",
    "    hidden = Maxout(num_units=96)(hidden)\n",
    "    \n",
    "    hidden = tf.keras.layers.Flatten()(hidden)\n",
    "    \n",
    "    hidden = tf.keras.layers.Dense(256, activation='relu')(hidden)\n",
    "    hidden = Maxout(num_units=128)(hidden)\n",
    "    \n",
    "    outputs = tf.keras.layers.Dense(10, activation='softmax')(hidden)\n",
    "    \n",
    "    model = tf.keras.Model(inputs, outputs)\n",
    "    metrics = [\n",
    "        tfa.metrics.F1Score(num_classes=10, average=\"weighted\"),\n",
    "        'accuracy'\n",
    "    ]\n",
    "    model.compile(\n",
    "        optimizer=RMSprop(learning_rate=0.0002),\n",
    "        loss='categorical_crossentropy',\n",
    "        metrics=metrics\n",
    "    )\n",
    "    \n",
    "    if show_summary:\n",
    "        print(model.summary())\n",
    "    \n",
    "    return model"
   ]
  },
  {
   "cell_type": "code",
   "execution_count": 8,
   "metadata": {
    "collapsed": true,
    "jupyter": {
     "outputs_hidden": true
    },
    "tags": []
   },
   "outputs": [
    {
     "name": "stdout",
     "output_type": "stream",
     "text": [
      "Model: \"model\"\n",
      "_________________________________________________________________\n",
      "Layer (type)                 Output Shape              Param #   \n",
      "=================================================================\n",
      "input_1 (InputLayer)         [(None, 32, 32, 3)]       0         \n",
      "_________________________________________________________________\n",
      "conv2d (Conv2D)              (None, 32, 32, 32)        896       \n",
      "_________________________________________________________________\n",
      "max_pooling2d (MaxPooling2D) (None, 16, 16, 32)        0         \n",
      "_________________________________________________________________\n",
      "batch_normalization (BatchNo (None, 16, 16, 32)        128       \n",
      "_________________________________________________________________\n",
      "maxout (Maxout)              (None, 16, 16, 16)        0         \n",
      "_________________________________________________________________\n",
      "conv2d_1 (Conv2D)            (None, 16, 16, 48)        6960      \n",
      "_________________________________________________________________\n",
      "max_pooling2d_1 (MaxPooling2 (None, 8, 8, 48)          0         \n",
      "_________________________________________________________________\n",
      "batch_normalization_1 (Batch (None, 8, 8, 48)          192       \n",
      "_________________________________________________________________\n",
      "maxout_1 (Maxout)            (None, 8, 8, 24)          0         \n",
      "_________________________________________________________________\n",
      "conv2d_2 (Conv2D)            (None, 8, 8, 96)          20832     \n",
      "_________________________________________________________________\n",
      "max_pooling2d_2 (MaxPooling2 (None, 4, 4, 96)          0         \n",
      "_________________________________________________________________\n",
      "batch_normalization_2 (Batch (None, 4, 4, 96)          384       \n",
      "_________________________________________________________________\n",
      "maxout_2 (Maxout)            (None, 4, 4, 48)          0         \n",
      "_________________________________________________________________\n",
      "conv2d_3 (Conv2D)            (None, 1, 1, 192)         147648    \n",
      "_________________________________________________________________\n",
      "batch_normalization_3 (Batch (None, 1, 1, 192)         768       \n",
      "_________________________________________________________________\n",
      "maxout_3 (Maxout)            (None, 1, 1, 96)          0         \n",
      "_________________________________________________________________\n",
      "flatten (Flatten)            (None, 96)                0         \n",
      "_________________________________________________________________\n",
      "dense (Dense)                (None, 256)               24832     \n",
      "_________________________________________________________________\n",
      "maxout_4 (Maxout)            (None, 128)               0         \n",
      "_________________________________________________________________\n",
      "dense_1 (Dense)              (None, 10)                1290      \n",
      "=================================================================\n",
      "Total params: 203,930\n",
      "Trainable params: 203,194\n",
      "Non-trainable params: 736\n",
      "_________________________________________________________________\n",
      "None\n"
     ]
    },
    {
     "name": "stderr",
     "output_type": "stream",
     "text": [
      "D:\\SoftwareProjects\\anaconda3\\envs\\tf_new\\lib\\site-packages\\tensorflow\\python\\keras\\optimizer_v2\\optimizer_v2.py:374: UserWarning: The `lr` argument is deprecated, use `learning_rate` instead.\n",
      "  warnings.warn(\n"
     ]
    }
   ],
   "source": [
    "model = maxout_nn_model(show_summary=True)"
   ]
  },
  {
   "cell_type": "code",
   "execution_count": 9,
   "metadata": {
    "collapsed": true,
    "jupyter": {
     "outputs_hidden": true
    },
    "tags": []
   },
   "outputs": [
    {
     "name": "stdout",
     "output_type": "stream",
     "text": [
      "Epoch 1/40\n",
      "765/765 [==============================] - ETA: 0s - loss: 1.5735 - f1_score: 0.4290 - accuracy: 0.4338"
     ]
    },
    {
     "name": "stderr",
     "output_type": "stream",
     "text": [
      "D:\\SoftwareProjects\\anaconda3\\envs\\tf_new\\lib\\site-packages\\tensorflow\\python\\keras\\metrics.py:254: UserWarning: Metric F1Score implements a `reset_states()` method; rename it to `reset_state()` (without the final \"s\"). The name `reset_states()` has been deprecated to improve API consistency.\n",
      "  warnings.warn('Metric %s implements a `reset_states()` method; rename it '\n"
     ]
    },
    {
     "name": "stdout",
     "output_type": "stream",
     "text": [
      "765/765 [==============================] - 41s 51ms/step - loss: 1.5735 - f1_score: 0.4290 - accuracy: 0.4338 - val_loss: 1.3245 - val_f1_score: 0.5208 - val_accuracy: 0.5280\n",
      "Epoch 2/40\n",
      "765/765 [==============================] - 39s 51ms/step - loss: 1.2646 - f1_score: 0.5442 - accuracy: 0.5479 - val_loss: 1.2085 - val_f1_score: 0.5597 - val_accuracy: 0.5520\n",
      "Epoch 3/40\n",
      "765/765 [==============================] - 39s 51ms/step - loss: 1.1368 - f1_score: 0.5895 - accuracy: 0.5921 - val_loss: 1.1103 - val_f1_score: 0.5982 - val_accuracy: 0.6040\n",
      "Epoch 4/40\n",
      "765/765 [==============================] - 39s 51ms/step - loss: 1.0566 - f1_score: 0.6216 - accuracy: 0.6236 - val_loss: 1.0073 - val_f1_score: 0.6389 - val_accuracy: 0.6420\n",
      "Epoch 5/40\n",
      "765/765 [==============================] - 43s 56ms/step - loss: 0.9911 - f1_score: 0.6471 - accuracy: 0.6485 - val_loss: 1.0064 - val_f1_score: 0.6531 - val_accuracy: 0.6510\n",
      "Epoch 6/40\n",
      "765/765 [==============================] - 41s 53ms/step - loss: 0.9413 - f1_score: 0.6663 - accuracy: 0.6676 - val_loss: 0.9444 - val_f1_score: 0.6579 - val_accuracy: 0.6610\n",
      "Epoch 7/40\n",
      "765/765 [==============================] - 41s 53ms/step - loss: 0.8988 - f1_score: 0.6826 - accuracy: 0.6839 - val_loss: 0.8990 - val_f1_score: 0.6743 - val_accuracy: 0.6760\n",
      "Epoch 8/40\n",
      "765/765 [==============================] - 41s 54ms/step - loss: 0.8612 - f1_score: 0.6951 - accuracy: 0.6961 - val_loss: 0.9340 - val_f1_score: 0.6772 - val_accuracy: 0.6760\n",
      "Epoch 9/40\n",
      "765/765 [==============================] - 41s 54ms/step - loss: 0.8295 - f1_score: 0.7052 - accuracy: 0.7061 - val_loss: 0.8391 - val_f1_score: 0.7085 - val_accuracy: 0.7090\n",
      "Epoch 10/40\n",
      "765/765 [==============================] - 41s 53ms/step - loss: 0.8016 - f1_score: 0.7154 - accuracy: 0.7162 - val_loss: 0.8210 - val_f1_score: 0.6962 - val_accuracy: 0.6960\n",
      "Epoch 11/40\n",
      "765/765 [==============================] - 42s 55ms/step - loss: 0.7751 - f1_score: 0.7249 - accuracy: 0.7257 - val_loss: 0.8667 - val_f1_score: 0.7087 - val_accuracy: 0.7120\n",
      "Epoch 12/40\n",
      "765/765 [==============================] - 41s 53ms/step - loss: 0.7543 - f1_score: 0.7334 - accuracy: 0.7341 - val_loss: 0.8162 - val_f1_score: 0.7155 - val_accuracy: 0.7150\n",
      "Epoch 13/40\n",
      "765/765 [==============================] - 41s 54ms/step - loss: 0.7365 - f1_score: 0.7425 - accuracy: 0.7432 - val_loss: 0.8185 - val_f1_score: 0.7222 - val_accuracy: 0.7220\n",
      "Epoch 14/40\n",
      "765/765 [==============================] - 42s 55ms/step - loss: 0.7217 - f1_score: 0.7448 - accuracy: 0.7455 - val_loss: 0.7925 - val_f1_score: 0.7098 - val_accuracy: 0.7110\n",
      "Epoch 15/40\n",
      "765/765 [==============================] - 42s 56ms/step - loss: 0.6954 - f1_score: 0.7551 - accuracy: 0.7556 - val_loss: 0.7757 - val_f1_score: 0.7223 - val_accuracy: 0.7230\n",
      "Epoch 16/40\n",
      "765/765 [==============================] - 46s 60ms/step - loss: 0.6879 - f1_score: 0.7574 - accuracy: 0.7581 - val_loss: 0.7471 - val_f1_score: 0.7359 - val_accuracy: 0.7360\n",
      "Epoch 17/40\n",
      "765/765 [==============================] - 44s 58ms/step - loss: 0.6735 - f1_score: 0.7632 - accuracy: 0.7638 - val_loss: 0.7600 - val_f1_score: 0.7334 - val_accuracy: 0.7330 loss: 0.6723 - f1_score: 0.7 - ETA: 1s - loss: 0.6731 - f1\n",
      "Epoch 18/40\n",
      "765/765 [==============================] - 44s 57ms/step - loss: 0.6559 - f1_score: 0.7693 - accuracy: 0.7698 - val_loss: 0.7764 - val_f1_score: 0.7268 - val_accuracy: 0.7260\n",
      "Epoch 19/40\n",
      "765/765 [==============================] - 43s 57ms/step - loss: 0.6469 - f1_score: 0.7720 - accuracy: 0.7724 - val_loss: 0.7745 - val_f1_score: 0.7290 - val_accuracy: 0.7280\n",
      "Epoch 20/40\n",
      "765/765 [==============================] - 44s 57ms/step - loss: 0.6313 - f1_score: 0.7779 - accuracy: 0.7783 - val_loss: 0.7824 - val_f1_score: 0.7281 - val_accuracy: 0.7270\n",
      "Epoch 21/40\n",
      "765/765 [==============================] - 44s 57ms/step - loss: 0.6172 - f1_score: 0.7818 - accuracy: 0.7822 - val_loss: 0.7633 - val_f1_score: 0.7380 - val_accuracy: 0.7400\n",
      "Epoch 22/40\n",
      "765/765 [==============================] - 44s 57ms/step - loss: 0.6100 - f1_score: 0.7855 - accuracy: 0.7860 - val_loss: 0.7526 - val_f1_score: 0.7401 - val_accuracy: 0.7410\n",
      "Epoch 23/40\n",
      "765/765 [==============================] - 43s 57ms/step - loss: 0.6011 - f1_score: 0.7901 - accuracy: 0.7905 - val_loss: 0.7190 - val_f1_score: 0.7496 - val_accuracy: 0.7490\n",
      "Epoch 24/40\n",
      "765/765 [==============================] - 44s 58ms/step - loss: 0.5896 - f1_score: 0.7940 - accuracy: 0.7945 - val_loss: 0.7554 - val_f1_score: 0.7468 - val_accuracy: 0.7440\n",
      "Epoch 25/40\n",
      "765/765 [==============================] - 45s 58ms/step - loss: 0.5810 - f1_score: 0.7960 - accuracy: 0.7962 - val_loss: 0.7560 - val_f1_score: 0.7469 - val_accuracy: 0.7470\n",
      "Epoch 26/40\n",
      "765/765 [==============================] - 45s 59ms/step - loss: 0.5702 - f1_score: 0.7980 - accuracy: 0.7983 - val_loss: 0.7593 - val_f1_score: 0.7443 - val_accuracy: 0.7440\n",
      "Epoch 27/40\n",
      "765/765 [==============================] - 45s 59ms/step - loss: 0.5687 - f1_score: 0.7990 - accuracy: 0.7994 - val_loss: 0.7506 - val_f1_score: 0.7444 - val_accuracy: 0.7440\n",
      "Epoch 28/40\n",
      "765/765 [==============================] - 45s 59ms/step - loss: 0.5553 - f1_score: 0.8043 - accuracy: 0.8047 - val_loss: 0.7457 - val_f1_score: 0.7590 - val_accuracy: 0.7580\n",
      "Epoch 29/40\n",
      "765/765 [==============================] - 45s 59ms/step - loss: 0.5476 - f1_score: 0.8063 - accuracy: 0.8066 - val_loss: 0.7557 - val_f1_score: 0.7500 - val_accuracy: 0.7480\n",
      "Epoch 30/40\n",
      "765/765 [==============================] - 45s 59ms/step - loss: 0.5380 - f1_score: 0.8108 - accuracy: 0.8111 - val_loss: 0.7529 - val_f1_score: 0.7500 - val_accuracy: 0.7500\n",
      "Epoch 31/40\n",
      "765/765 [==============================] - 46s 59ms/step - loss: 0.5346 - f1_score: 0.8128 - accuracy: 0.8131 - val_loss: 0.7177 - val_f1_score: 0.7527 - val_accuracy: 0.7510\n",
      "Epoch 32/40\n",
      "765/765 [==============================] - 45s 59ms/step - loss: 0.5218 - f1_score: 0.8149 - accuracy: 0.8152 - val_loss: 0.7308 - val_f1_score: 0.7533 - val_accuracy: 0.7520\n",
      "Epoch 33/40\n",
      "765/765 [==============================] - 46s 59ms/step - loss: 0.5221 - f1_score: 0.8153 - accuracy: 0.8156 - val_loss: 0.7537 - val_f1_score: 0.7504 - val_accuracy: 0.7490\n",
      "\n",
      "Epoch 00033: ReduceLROnPlateau reducing learning rate to 3.9999998989515007e-05.\n",
      "Epoch 34/40\n",
      "765/765 [==============================] - 45s 59ms/step - loss: 0.4752 - f1_score: 0.8323 - accuracy: 0.8325 - val_loss: 0.6964 - val_f1_score: 0.7705 - val_accuracy: 0.7700\n",
      "Epoch 35/40\n",
      "765/765 [==============================] - 45s 59ms/step - loss: 0.4668 - f1_score: 0.8353 - accuracy: 0.8355 - val_loss: 0.6685 - val_f1_score: 0.7706 - val_accuracy: 0.7700\n",
      "Epoch 36/40\n",
      "765/765 [==============================] - 46s 60ms/step - loss: 0.4606 - f1_score: 0.8381 - accuracy: 0.8384 - val_loss: 0.6687 - val_f1_score: 0.7726 - val_accuracy: 0.7720\n",
      "Epoch 37/40\n",
      "765/765 [==============================] - 48s 62ms/step - loss: 0.4507 - f1_score: 0.8424 - accuracy: 0.8426 - val_loss: 0.7310 - val_f1_score: 0.7568 - val_accuracy: 0.7570418 -  - ETA: 11s - loss - ETA - ETA: 6s - loss: 0.4530 - f1_score: 0.8414 - accuracy: 0.8 - ETA: 6s - loss: 0.4529 - f1_score: 0.84 - ETA: 4s - loss: 0.4524 - f1_score: 0.8418 - accuracy: 0.842 - ETA: 4s - loss: 0.4524 - f1_score: 0.8418 - a\n",
      "Epoch 38/40\n",
      "765/765 [==============================] - 47s 62ms/step - loss: 0.4575 - f1_score: 0.8402 - accuracy: 0.8404 - val_loss: 0.7029 - val_f1_score: 0.7585 - val_accuracy: 0.7590\n",
      "Epoch 39/40\n",
      "765/765 [==============================] - 47s 62ms/step - loss: 0.4493 - f1_score: 0.8430 - accuracy: 0.8432 - val_loss: 0.6729 - val_f1_score: 0.7721 - val_accuracy: 0.7710\n",
      "Epoch 40/40\n",
      "765/765 [==============================] - 47s 61ms/step - loss: 0.4441 - f1_score: 0.8434 - accuracy: 0.8436 - val_loss: 0.7149 - val_f1_score: 0.7691 - val_accuracy: 0.7680: 0.4440 - f1_score: 0.84 - ETA: 9s - loss: 0.4444 - f1_s\n"
     ]
    }
   ],
   "source": [
    "from tensorflow.keras.callbacks import ModelCheckpoint, ReduceLROnPlateau\n",
    "\n",
    "save_best = ModelCheckpoint('models/best_weights_final.hdf5', save_best_only=True, monitor='val_f1_score', mode='max')\n",
    "reduce_lr = ReduceLROnPlateau(monitor='val_f1_score', mode='max', factor=0.2, patience=5, verbose=1, cooldown=3)\n",
    "\n",
    "history = model.fit(\n",
    "    train_datagen.flow(x_train, y_train, batch_size=64, subset='training'),\n",
    "    steps_per_epoch=765,\n",
    "    validation_data=train_datagen.flow(x_train, y_train, batch_size=64, subset='validation'),\n",
    "    validation_steps=16,\n",
    "    callbacks=[save_best, reduce_lr],\n",
    "    epochs=40\n",
    ")"
   ]
  },
  {
   "cell_type": "code",
   "execution_count": 10,
   "metadata": {},
   "outputs": [],
   "source": [
    "plot_history(history.history)"
   ]
  },
  {
   "cell_type": "code",
   "execution_count": 16,
   "metadata": {},
   "outputs": [
    {
     "name": "stdout",
     "output_type": "stream",
     "text": [
      "313/313 [==============================] - 8s 26ms/step - loss: 0.7119 - f1_score: 0.7578 - accuracy: 0.7578\n"
     ]
    },
    {
     "data": {
      "text/plain": [
       "[0.7119130492210388, 0.7578243613243103, 0.7577999830245972]"
      ]
     },
     "execution_count": 16,
     "metadata": {},
     "output_type": "execute_result"
    }
   ],
   "source": [
    "model.load_weights('models/best_weights_final.hdf5')\n",
    "model.evaluate(train_datagen.flow(x_test, y_test))"
   ]
  },
  {
   "cell_type": "code",
   "execution_count": null,
   "metadata": {},
   "outputs": [],
   "source": []
  }
 ],
 "metadata": {
  "kernelspec": {
   "display_name": "Python 3",
   "language": "python",
   "name": "python3"
  },
  "language_info": {
   "codemirror_mode": {
    "name": "ipython",
    "version": 3
   },
   "file_extension": ".py",
   "mimetype": "text/x-python",
   "name": "python",
   "nbconvert_exporter": "python",
   "pygments_lexer": "ipython3",
   "version": "3.9.6"
  }
 },
 "nbformat": 4,
 "nbformat_minor": 4
}
